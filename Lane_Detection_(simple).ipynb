{
  "nbformat": 4,
  "nbformat_minor": 0,
  "metadata": {
    "colab": {
      "provenance": [],
      "include_colab_link": true
    },
    "kernelspec": {
      "name": "python3",
      "display_name": "Python 3"
    }
  },
  "cells": [
    {
      "cell_type": "markdown",
      "metadata": {
        "id": "view-in-github",
        "colab_type": "text"
      },
      "source": [
        "<a href=\"https://colab.research.google.com/github/Kuntalbuby/Lane_Line_Detection/blob/main/Lane_Detection_(simple).ipynb\" target=\"_parent\"><img src=\"https://colab.research.google.com/assets/colab-badge.svg\" alt=\"Open In Colab\"/></a>"
      ]
    },
    {
      "cell_type": "markdown",
      "source": [
        "#\"KUNTAL CHAUDHURY\"\n",
        "#\"LANE LINE DETECTION\""
      ],
      "metadata": {
        "id": "5MiDRolPDctZ"
      }
    },
    {
      "cell_type": "code",
      "metadata": {
        "id": "waJzE_ogwdLV",
        "outputId": "f5e16c3f-a306-4c9c-e224-17f9e9668089",
        "colab": {
          "base_uri": "https://localhost:8080/",
          "height": 0
        }
      },
      "source": [
        "!git clone https://github.com/chuanenlin/lane-detector.git\n",
        "%cd lane-detector\n",
        "%ls"
      ],
      "execution_count": 21,
      "outputs": [
        {
          "output_type": "stream",
          "name": "stdout",
          "text": [
            "Cloning into 'lane-detector'...\n",
            "remote: Enumerating objects: 17, done.\u001b[K\n",
            "remote: Total 17 (delta 0), reused 0 (delta 0), pack-reused 17\u001b[K\n",
            "Unpacking objects: 100% (17/17), 6.31 MiB | 11.85 MiB/s, done.\n",
            "/content/lane-detector/lane-detector/lane-detector\n",
            "checkpoint1.py  checkpoint3.py  checkpoint5.py  input.mp4  solution.py\n",
            "checkpoint2.py  checkpoint4.py  detector.py     README.md\n"
          ]
        }
      ]
    },
    {
      "cell_type": "markdown",
      "metadata": {
        "id": "OZWmM_7jzNWM"
      },
      "source": [
        "Step 1: Importing Libraries"
      ]
    },
    {
      "cell_type": "code",
      "metadata": {
        "id": "SvG4NL9WzJy8"
      },
      "source": [
        "import cv2 as cv\n",
        "from google.colab.patches import cv2_imshow\n",
        "import numpy as np"
      ],
      "execution_count": 22,
      "outputs": []
    },
    {
      "cell_type": "code",
      "metadata": {
        "id": "BSKYJTv_zbEt"
      },
      "source": [
        "def do_canny(frame):\n",
        "    gray = cv.cvtColor(frame, cv.COLOR_RGB2GRAY)\n",
        "    blur = cv.GaussianBlur(gray, (5, 5), 0)\n",
        "    canny = cv.Canny(blur, 50, 150)\n",
        "    return canny"
      ],
      "execution_count": 23,
      "outputs": []
    },
    {
      "cell_type": "code",
      "metadata": {
        "id": "HFRzkBjDzu20"
      },
      "source": [
        "def do_segment(frame):\n",
        "    height = frame.shape[0]\n",
        "    polygons = np.array([\n",
        "                            [(0, height), (800, height), (380, 290)]\n",
        "                        ])\n",
        "    mask = np.zeros_like(frame)\n",
        "    cv.fillPoly(mask, polygons, 255)\n",
        "    segment = cv.bitwise_and(frame, mask)\n",
        "    return segment"
      ],
      "execution_count": 24,
      "outputs": []
    },
    {
      "cell_type": "code",
      "metadata": {
        "id": "sUHCkqr_z-zV"
      },
      "source": [
        "def calculate_lines(frame, lines):\n",
        "    left = []\n",
        "    right = []\n",
        "    for line in lines:\n",
        "        x1, y1, x2, y2 = line.reshape(4)\n",
        "        parameters = np.polyfit((x1, x2), (y1, y2), 1)\n",
        "        slope = parameters[0]\n",
        "        y_intercept = parameters[1]\n",
        "        if slope < 0:\n",
        "            left.append((slope, y_intercept))\n",
        "        else:\n",
        "            right.append((slope, y_intercept))\n",
        "    left_avg = np.average(left, axis = 0)\n",
        "    right_avg = np.average(right, axis = 0)\n",
        "    left_line = calculate_coordinates(frame, left_avg)\n",
        "    right_line = calculate_coordinates(frame, right_avg)\n",
        "    return np.array([left_line, right_line])\n",
        "\n",
        "def calculate_coordinates(frame, parameters):\n",
        "    slope, intercept = parameters\n",
        "    y1 = frame.shape[0]\n",
        "    y2 = int(y1 - 150)\n",
        "    x1 = int((y1 - intercept) / slope)\n",
        "    x2 = int((y2 - intercept) / slope)\n",
        "    return np.array([x1, y1, x2, y2])\n"
      ],
      "execution_count": 25,
      "outputs": []
    },
    {
      "cell_type": "code",
      "metadata": {
        "id": "upr8hgTT0Sxs"
      },
      "source": [
        "def visualize_lines(frame, lines):\n",
        "    lines_visualize = np.zeros_like(frame)\n",
        "    if lines is not None:\n",
        "        for x1, y1, x2, y2 in lines:\n",
        "            cv.line(lines_visualize, (x1, y1), (x2, y2), (0, 255, 0), 5)\n",
        "    return lines_visualize"
      ],
      "execution_count": 26,
      "outputs": []
    },
    {
      "cell_type": "markdown",
      "metadata": {
        "id": "OL9avqO52a0n"
      },
      "source": [
        "**Master Function**"
      ]
    },
    {
      "cell_type": "code",
      "metadata": {
        "id": "-1ZxGgWX12Rl"
      },
      "source": [
        "def lane_detector (frame):\n",
        "    canny = do_canny(frame)\n",
        "    segment = do_segment(canny)\n",
        "    hough = cv.HoughLinesP(segment, 2, np.pi / 180, 100, np.array([]), minLineLength = 100, maxLineGap = 50)\n",
        "    lines = calculate_lines(frame, hough)\n",
        "    lines_visualize = visualize_lines(frame, lines)\n",
        "    output = cv.addWeighted(frame, 0.9, lines_visualize, 1, 1)\n",
        "    return output"
      ],
      "execution_count": 27,
      "outputs": []
    },
    {
      "cell_type": "code",
      "metadata": {
        "id": "jPPgVzcH1xVE",
        "colab": {
          "base_uri": "https://localhost:8080/",
          "height": 0
        },
        "outputId": "db7d06d3-38e1-4841-ea47-d9970d5a3718"
      },
      "source": [
        "import cv2\n",
        "cap = cv2.VideoCapture('input.mp4')\n",
        "ret, frame = cap.read()\n",
        "frame_height, frame_width, _ = frame.shape\n",
        "out = cv2.VideoWriter('output.avi',cv2.VideoWriter_fourcc('M','J','P','G'), 10, (frame_width,frame_height))\n",
        "print(\"Processing Video...\")\n",
        "while cap.isOpened():\n",
        "  ret, frame = cap.read()\n",
        "  if not ret:\n",
        "    out.release()\n",
        "    break\n",
        "  output = lane_detector(frame)\n",
        "  out.write(output)\n",
        "out.release()\n",
        "print(\"Done processing video\")"
      ],
      "execution_count": 29,
      "outputs": [
        {
          "output_type": "stream",
          "name": "stdout",
          "text": [
            "Processing Video...\n",
            "Done processing video\n"
          ]
        }
      ]
    }
  ]
}